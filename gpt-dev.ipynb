{
 "cells": [
  {
   "cell_type": "code",
   "execution_count": 99,
   "id": "2383db67",
   "metadata": {},
   "outputs": [],
   "source": [
    "with open(\"input.txt\", \"r\", encoding = 'utf-8') as f:\n",
    "    text = f.read()"
   ]
  },
  {
   "cell_type": "code",
   "execution_count": 100,
   "id": "68b407be",
   "metadata": {},
   "outputs": [
    {
     "name": "stdout",
     "output_type": "stream",
     "text": [
      "length of the dataset: 1115394\n",
      "First Citizen:\n",
      "Before we proceed any further, hear me speak.\n",
      "\n",
      "All:\n",
      "Speak, speak.\n",
      "\n",
      "First Citizen:\n",
      "Yo\n"
     ]
    }
   ],
   "source": [
    "print(\"length of the dataset: \" + str(len(text)))\n",
    "print(text[:99])"
   ]
  },
  {
   "cell_type": "code",
   "execution_count": 101,
   "id": "3a7fbd5a",
   "metadata": {},
   "outputs": [
    {
     "name": "stdout",
     "output_type": "stream",
     "text": [
      "['p', 'T', 'J', 'c', 'i', ' ', 'B', 'O', 'U', 'G', 'Z', 'z', 'Q', 'h', '!', 'e', 'N', 'u', ';', 'g', '?', 'Y', 'j', 'q', 'R', 'x', 'I', 'n', 'K', 'o', '.', 'm', 'S', '-', 'W', 'y', 's', 'H', 'C', 'L', 'a', ',', 'k', '3', 'r', 'E', ':', '\\n', 'F', \"'\", 'V', 'A', 't', 'w', 'b', 'D', 'X', 'P', '$', 'f', 'l', 'v', 'M', '&', 'd']\n",
      "65\n"
     ]
    }
   ],
   "source": [
    "chars = list(set(text))\n",
    "print(chars)\n",
    "print(len(chars))\n",
    "vocab_size = len(chars)"
   ]
  },
  {
   "cell_type": "code",
   "execution_count": 102,
   "id": "d3742a00",
   "metadata": {},
   "outputs": [],
   "source": [
    "stoi = {ch: i for i, ch in enumerate(chars)}\n",
    "itos = {i: ch for i, ch in enumerate(chars)}\n",
    "encode = lambda s: [stoi[ch] for ch in s]\n",
    "decode = lambda l: ''.join([itos[i] for i in l])"
   ]
  },
  {
   "cell_type": "code",
   "execution_count": 103,
   "id": "d9b99cb8",
   "metadata": {},
   "outputs": [
    {
     "name": "stdout",
     "output_type": "stream",
     "text": [
      "{'p': 0, 'T': 1, 'J': 2, 'c': 3, 'i': 4, ' ': 5, 'B': 6, 'O': 7, 'U': 8, 'G': 9, 'Z': 10, 'z': 11, 'Q': 12, 'h': 13, '!': 14, 'e': 15, 'N': 16, 'u': 17, ';': 18, 'g': 19, '?': 20, 'Y': 21, 'j': 22, 'q': 23, 'R': 24, 'x': 25, 'I': 26, 'n': 27, 'K': 28, 'o': 29, '.': 30, 'm': 31, 'S': 32, '-': 33, 'W': 34, 'y': 35, 's': 36, 'H': 37, 'C': 38, 'L': 39, 'a': 40, ',': 41, 'k': 42, '3': 43, 'r': 44, 'E': 45, ':': 46, '\\n': 47, 'F': 48, \"'\": 49, 'V': 50, 'A': 51, 't': 52, 'w': 53, 'b': 54, 'D': 55, 'X': 56, 'P': 57, '$': 58, 'f': 59, 'l': 60, 'v': 61, 'M': 62, '&': 63, 'd': 64}\n",
      "{0: 'p', 1: 'T', 2: 'J', 3: 'c', 4: 'i', 5: ' ', 6: 'B', 7: 'O', 8: 'U', 9: 'G', 10: 'Z', 11: 'z', 12: 'Q', 13: 'h', 14: '!', 15: 'e', 16: 'N', 17: 'u', 18: ';', 19: 'g', 20: '?', 21: 'Y', 22: 'j', 23: 'q', 24: 'R', 25: 'x', 26: 'I', 27: 'n', 28: 'K', 29: 'o', 30: '.', 31: 'm', 32: 'S', 33: '-', 34: 'W', 35: 'y', 36: 's', 37: 'H', 38: 'C', 39: 'L', 40: 'a', 41: ',', 42: 'k', 43: '3', 44: 'r', 45: 'E', 46: ':', 47: '\\n', 48: 'F', 49: \"'\", 50: 'V', 51: 'A', 52: 't', 53: 'w', 54: 'b', 55: 'D', 56: 'X', 57: 'P', 58: '$', 59: 'f', 60: 'l', 61: 'v', 62: 'M', 63: '&', 64: 'd'}\n",
      "[37, 15, 60, 60, 29, 5, 34, 29, 44, 60, 64]\n"
     ]
    }
   ],
   "source": [
    "print(stoi)\n",
    "print(itos)\n",
    "print(encode(\"Hello World\"))"
   ]
  },
  {
   "cell_type": "code",
   "execution_count": 104,
   "id": "47709bac",
   "metadata": {},
   "outputs": [
    {
     "name": "stdout",
     "output_type": "stream",
     "text": [
      "lIPPemceiPD\n"
     ]
    }
   ],
   "source": [
    "print(decode([60, 26, 57, 57, 15, 31, 3, 15, 4, 57, 55]))"
   ]
  },
  {
   "cell_type": "code",
   "execution_count": 105,
   "id": "770b52b0",
   "metadata": {},
   "outputs": [
    {
     "name": "stdout",
     "output_type": "stream",
     "text": [
      "torch.Size([1115394]) torch.int64\n",
      "tensor([48,  4, 44, 36, 52,  5, 38,  4, 52,  4, 11, 15, 27, 46, 47,  6, 15, 59,\n",
      "        29, 44, 15,  5, 53, 15,  5,  0, 44, 29,  3, 15, 15, 64,  5, 40, 27, 35,\n",
      "         5, 59, 17, 44, 52, 13, 15, 44, 41,  5, 13, 15, 40, 44,  5, 31, 15,  5,\n",
      "        36,  0, 15, 40, 42, 30, 47, 47, 51, 60, 60, 46, 47, 32,  0, 15, 40, 42,\n",
      "        41,  5, 36,  0, 15, 40, 42, 30, 47, 47, 48,  4, 44, 36, 52,  5, 38,  4,\n",
      "        52,  4, 11, 15, 27, 46, 47, 21, 29])\n"
     ]
    }
   ],
   "source": [
    "import torch\n",
    "\n",
    "data = torch.tensor(encode(text), dtype= torch.long)\n",
    "print(data.shape, data.dtype)\n",
    "print(data[:99])"
   ]
  },
  {
   "cell_type": "code",
   "execution_count": 106,
   "id": "f3c26df1",
   "metadata": {},
   "outputs": [],
   "source": [
    "n = int(0.9 * len(data))\n",
    "train_data = data[:n]\n",
    "val_data = data[n:]"
   ]
  },
  {
   "cell_type": "code",
   "execution_count": 107,
   "id": "6ad48287",
   "metadata": {},
   "outputs": [],
   "source": [
    "block_size = 8"
   ]
  },
  {
   "cell_type": "code",
   "execution_count": 108,
   "id": "1fc34201",
   "metadata": {},
   "outputs": [
    {
     "name": "stdout",
     "output_type": "stream",
     "text": [
      "tensor([48,  4, 44, 36, 52,  5, 38,  4]) tensor([ 4, 44, 36, 52,  5, 38,  4, 52])\n",
      "when input is tensor([48]) the target is 4\n",
      "when input is tensor([48,  4]) the target is 44\n",
      "when input is tensor([48,  4, 44]) the target is 36\n",
      "when input is tensor([48,  4, 44, 36]) the target is 52\n",
      "when input is tensor([48,  4, 44, 36, 52]) the target is 5\n",
      "when input is tensor([48,  4, 44, 36, 52,  5]) the target is 38\n",
      "when input is tensor([48,  4, 44, 36, 52,  5, 38]) the target is 4\n",
      "when input is tensor([48,  4, 44, 36, 52,  5, 38,  4]) the target is 52\n"
     ]
    }
   ],
   "source": [
    "x = train_data[:block_size]\n",
    "y = train_data[1:block_size+1]\n",
    "print(x,y)\n",
    "for t in range(block_size):\n",
    "    context = x[:t+1]\n",
    "    target = y[t]\n",
    "    print(f\"when input is {context} the target is {target}\")\n"
   ]
  },
  {
   "cell_type": "code",
   "execution_count": 109,
   "id": "420e25dc",
   "metadata": {},
   "outputs": [],
   "source": [
    "torch.manual_seed(1337)\n",
    "batch_size = 4\n",
    "block_size = 8\n",
    "\n",
    "def get_batch(split):\n",
    "    data = train_data if split == 'train' else val_data\n",
    "    ix = torch.randint(len(data) - block_size, (batch_size,))\n",
    "    x = torch.stack([data[i:i+block_size] for i in ix])\n",
    "    y = torch.stack([data[i+1:i+block_size+1] for i in ix])\n",
    "    return x,y"
   ]
  },
  {
   "cell_type": "code",
   "execution_count": 110,
   "id": "2e6248d0",
   "metadata": {},
   "outputs": [
    {
     "name": "stdout",
     "output_type": "stream",
     "text": [
      "inputs: \n",
      "torch.Size([4, 8])\n",
      "tensor([[39, 15, 52, 49, 36,  5, 13, 15],\n",
      "        [59, 29, 44,  5, 52, 13, 40, 52],\n",
      "        [27, 52,  5, 52, 13, 40, 52,  5],\n",
      "        [62, 45,  7, 46, 47, 26,  5,  0]])\n",
      "targets: \n",
      "torch.Size([4, 8])\n",
      "tensor([[15, 52, 49, 36,  5, 13, 15, 40],\n",
      "        [29, 44,  5, 52, 13, 40, 52,  5],\n",
      "        [52,  5, 52, 13, 40, 52,  5, 13],\n",
      "        [45,  7, 46, 47, 26,  5,  0, 40]])\n"
     ]
    }
   ],
   "source": [
    "xb,yb = get_batch(\"train\")\n",
    "print(\"inputs: \")\n",
    "print(xb.shape)\n",
    "print(xb)\n",
    "print(\"targets: \")\n",
    "print(yb.shape)\n",
    "print(yb)"
   ]
  },
  {
   "cell_type": "code",
   "execution_count": 111,
   "id": "86243ffd",
   "metadata": {},
   "outputs": [
    {
     "name": "stdout",
     "output_type": "stream",
     "text": [
      "torch.Size([32, 65])\n",
      "tensor(4.5404, grad_fn=<NllLossBackward0>)\n",
      "pmqY,RSzh,uRxwSalClTeQtDOouGGZejD'nq?ODzZVLJw\n",
      "&v'?FEe:daoQfJGaRYEv3lA&;jg-gbpvtHyAtMqyy3lO$NDsuXWqREj\n"
     ]
    }
   ],
   "source": [
    "import torch\n",
    "import torch.nn as nn\n",
    "from torch.nn import functional as F\n",
    "torch.manual_seed(1337)\n",
    "\n",
    "class BigramLanguageModel(nn.Module):\n",
    "    def __init__(self, vocab_size):\n",
    "        super().__init__()\n",
    "        self.token_embedding_table = nn.Embedding(vocab_size, vocab_size)\n",
    "    def forward(self, idx,targets = None):\n",
    "        logits = self.token_embedding_table(idx)\n",
    "        if targets is None:\n",
    "            loss = None\n",
    "        else:\n",
    "            B,T,C = logits.shape\n",
    "            logits = logits.view(B*T,C)\n",
    "            targets = targets.view(B*T)\n",
    "            loss = F.cross_entropy(logits,targets)\n",
    "        return logits,loss\n",
    "    def generate(self,idx, max_new_tokens):\n",
    "        for _ in range(max_new_tokens):\n",
    "            logits, loss = self(idx)\n",
    "            logits = logits[:, -1, :]\n",
    "            probs = F.softmax(logits, dim=-1)\n",
    "            idx_next = torch.multinomial(probs, num_samples=1)\n",
    "            idx = torch.cat((idx, idx_next), dim=1)\n",
    "        return idx\n",
    "m = BigramLanguageModel(vocab_size)\n",
    "logits,loss = m(xb,yb)\n",
    "print(logits.shape)\n",
    "print(loss)\n",
    "\n",
    "idx = torch.zeros((1,1), dtype=torch.long)\n",
    "print(decode(m.generate(idx, max_new_tokens = 100)[0].tolist()))"
   ]
  },
  {
   "cell_type": "code",
   "execution_count": 112,
   "id": "8be9e25e",
   "metadata": {},
   "outputs": [],
   "source": [
    "optimizer = torch.optim.AdamW(m.parameters(), lr = 1e-3)"
   ]
  },
  {
   "cell_type": "code",
   "execution_count": 113,
   "id": "8ea46b23",
   "metadata": {},
   "outputs": [
    {
     "name": "stdout",
     "output_type": "stream",
     "text": [
      "2.372959852218628\n"
     ]
    }
   ],
   "source": [
    "batch_size = 32\n",
    "for steps in range(10000):\n",
    "    xb,yb = get_batch('train')\n",
    "\n",
    "    logits, loss = m(xb,yb)\n",
    "    optimizer.zero_grad(set_to_none = True)\n",
    "    loss.backward()\n",
    "    optimizer.step()\n",
    "\n",
    "print(loss.item())"
   ]
  },
  {
   "cell_type": "code",
   "execution_count": 114,
   "id": "7e90a733",
   "metadata": {},
   "outputs": [
    {
     "name": "stdout",
     "output_type": "stream",
     "text": [
      "pe w ata tuio nefofer AEm, MAnd Ond sonfonearorave lantofouce ge saysthethes igat beo JUqut stalfr my, wse l,\n",
      "Whar:\n",
      "\n",
      "\n",
      "m RTo nt, d other y Tethir itou byorl nines has t:\n",
      "Be n; I'stco withst thours ns ll chimus d tok!\n",
      "\n",
      "\n",
      "NEThaitferg apinowe hiforeinomirpwindord dinyorale strvellye, n the ade llors day, by areflithanelor Kit d sof e llld rcah, y him h d ha crethou, th. y.\n",
      "There grsuto br oo t 'lmeretham.\n",
      "Duecthe'sseshit fof he he-\n",
      "Th, he thave.\n",
      "\n",
      "Aroungm f, d's oan.\n",
      "PETUCandorn.\n",
      "The t t deine INTheris\n"
     ]
    }
   ],
   "source": [
    "print(decode(m.generate(idx = torch.zeros((1,1), dtype=torch.long), max_new_tokens=500)[0].tolist()))       "
   ]
  },
  {
   "cell_type": "code",
   "execution_count": 119,
   "id": "d1dcda12",
   "metadata": {},
   "outputs": [
    {
     "data": {
      "text/plain": [
       "torch.Size([4, 8, 2])"
      ]
     },
     "execution_count": 119,
     "metadata": {},
     "output_type": "execute_result"
    }
   ],
   "source": [
    "torch.manual_seed(1337)\n",
    "B,T,C = 4,8,2\n",
    "x = torch.randn(B,T,C)\n",
    "x.shape"
   ]
  },
  {
   "cell_type": "code",
   "execution_count": 120,
   "id": "b444fb96",
   "metadata": {},
   "outputs": [],
   "source": [
    "xbow = torch.zeros((B,T,C))\n",
    "for b in range(B):\n",
    "    for t in range(T):\n",
    "        xprev = x[b,:t+1]\n",
    "        xbow[b,t] = torch.mean(xprev, 0)"
   ]
  },
  {
   "cell_type": "code",
   "execution_count": 121,
   "id": "b7b0946d",
   "metadata": {},
   "outputs": [
    {
     "data": {
      "text/plain": [
       "False"
      ]
     },
     "execution_count": 121,
     "metadata": {},
     "output_type": "execute_result"
    }
   ],
   "source": [
    "wei = torch.tril(torch.ones(T,T))\n",
    "wei = wei / wei.sum(1, keepdim=True)\n",
    "xbow2 = wei @ x\n",
    "torch.allclose(xbow,xbow2)"
   ]
  },
  {
   "cell_type": "code",
   "execution_count": null,
   "id": "09bd280c",
   "metadata": {},
   "outputs": [
    {
     "data": {
      "text/plain": [
       "False"
      ]
     },
     "execution_count": 127,
     "metadata": {},
     "output_type": "execute_result"
    }
   ],
   "source": [
    "torch.manual_seed(1337)\n",
    "B,T,C = 4,8,32\n",
    "x = torch.randn(B,T,C)\n",
    "\n",
    "head_size = 16\n",
    "key = nn.Linear(C, head_size, bias = False)\n",
    "query = nn.Linear(C, head_size, bias = False)\n",
    "\n",
    "tril = torch.tril(torch.ones(T,T))\n",
    "wei = torch.zeros((T,T))\n",
    "wei = wei.masked_fill(tril == 0, float('-inf'))\n",
    "wei = F.softmax(wei, dim = -1)\n",
    "xbow3 = wei @ x\n",
    "torch.allclose(xbow,xbow3)"
   ]
  },
  {
   "cell_type": "code",
   "execution_count": 124,
   "id": "87c6bc57",
   "metadata": {},
   "outputs": [
    {
     "name": "stdout",
     "output_type": "stream",
     "text": [
      "tensor([[ 1.3488, -0.1396],\n",
      "        [ 0.8173,  0.4127],\n",
      "        [-0.1342,  0.4395],\n",
      "        [ 0.2711,  0.4774],\n",
      "        [ 0.2421,  0.0694],\n",
      "        [ 0.0084,  0.0020],\n",
      "        [ 0.0712, -0.1128],\n",
      "        [ 0.2527,  0.2149]]) tensor([[ 1.3488, -0.1396],\n",
      "        [ 0.8173,  0.4127],\n",
      "        [-0.1342,  0.4395],\n",
      "        [ 0.2711,  0.4774],\n",
      "        [ 0.2421,  0.0694],\n",
      "        [ 0.0084,  0.0020],\n",
      "        [ 0.0712, -0.1128],\n",
      "        [ 0.2527,  0.2149]])\n"
     ]
    }
   ],
   "source": [
    "print(xbow[1],xbow2[1])"
   ]
  },
  {
   "cell_type": "code",
   "execution_count": 118,
   "id": "5cb269f4",
   "metadata": {},
   "outputs": [
    {
     "name": "stdout",
     "output_type": "stream",
     "text": [
      "a=\n",
      "tensor([[1.0000, 0.0000, 0.0000],\n",
      "        [0.5000, 0.5000, 0.0000],\n",
      "        [0.3333, 0.3333, 0.3333]])\n",
      "----\n",
      "b=\n",
      "tensor([[2., 7.],\n",
      "        [6., 4.],\n",
      "        [6., 5.]])\n",
      "----\n",
      "c=\n",
      "tensor([[2.0000, 7.0000],\n",
      "        [4.0000, 5.5000],\n",
      "        [4.6667, 5.3333]])\n"
     ]
    }
   ],
   "source": [
    "torch.manual_seed(42)\n",
    "a = torch.tril(torch.ones(3,3))\n",
    "a = a / torch.sum(a, 1, keepdim=True)\n",
    "b = torch.randint(0,10,(3,2)).float()\n",
    "c = a @ b\n",
    "print('a=')\n",
    "print(a)\n",
    "print('----')\n",
    "print('b=')\n",
    "print(b)\n",
    "print('----')\n",
    "print('c=')\n",
    "print(c)"
   ]
  },
  {
   "cell_type": "code",
   "execution_count": null,
   "id": "0fbd51dc",
   "metadata": {},
   "outputs": [],
   "source": []
  }
 ],
 "metadata": {
  "kernelspec": {
   "display_name": "Python 3",
   "language": "python",
   "name": "python3"
  },
  "language_info": {
   "codemirror_mode": {
    "name": "ipython",
    "version": 3
   },
   "file_extension": ".py",
   "mimetype": "text/x-python",
   "name": "python",
   "nbconvert_exporter": "python",
   "pygments_lexer": "ipython3",
   "version": "3.13.5"
  }
 },
 "nbformat": 4,
 "nbformat_minor": 5
}
