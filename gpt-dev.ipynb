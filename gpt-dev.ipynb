{
 "cells": [
  {
   "cell_type": "code",
   "execution_count": 2,
   "id": "2383db67",
   "metadata": {},
   "outputs": [],
   "source": [
    "with open(\"input.txt\", \"r\", encoding = 'utf-8') as f:\n",
    "    text = f.read()"
   ]
  },
  {
   "cell_type": "code",
   "execution_count": 3,
   "id": "68b407be",
   "metadata": {},
   "outputs": [
    {
     "name": "stdout",
     "output_type": "stream",
     "text": [
      "length of the dataset: 1115394\n",
      "First Citizen:\n",
      "Before we proceed any further, hear me speak.\n",
      "\n",
      "All:\n",
      "Speak, speak.\n",
      "\n",
      "First Citizen:\n",
      "Yo\n"
     ]
    }
   ],
   "source": [
    "print(\"length of the dataset: \" + str(len(text)))\n",
    "print(text[:99])"
   ]
  },
  {
   "cell_type": "code",
   "execution_count": 4,
   "id": "3a7fbd5a",
   "metadata": {},
   "outputs": [
    {
     "name": "stdout",
     "output_type": "stream",
     "text": [
      "['e', 'P', 'j', 'm', 'p', 'R', 'A', 'V', '$', 'h', 'w', 'X', 'W', ',', 'v', '?', 'c', 'B', 'Q', 'F', 'M', ':', 'O', '&', 'Z', 'd', 'S', 'f', 'L', 'g', 'k', 'U', ';', 'K', '-', 't', 'C', '\\n', 'T', 'b', 'D', '.', 'Y', 'G', 'l', 'I', 'H', 'u', '3', 'a', \"'\", 'n', 'E', 'z', 'r', 'N', '!', 'i', 's', 'o', 'y', ' ', 'q', 'x', 'J']\n"
     ]
    }
   ],
   "source": [
    "chars = list(set(text))\n",
    "print(chars)"
   ]
  },
  {
   "cell_type": "code",
   "execution_count": 5,
   "id": "d3742a00",
   "metadata": {},
   "outputs": [],
   "source": [
    "stoi = {ch: i for i, ch in enumerate(chars)}\n",
    "itos = {i: ch for i, ch in enumerate(chars)}\n",
    "encode = lambda s: [stoi[ch] for ch in s]\n",
    "decode = lambda l: ''.join([itos[i] for i in l])"
   ]
  },
  {
   "cell_type": "code",
   "execution_count": 6,
   "id": "d9b99cb8",
   "metadata": {},
   "outputs": [
    {
     "name": "stdout",
     "output_type": "stream",
     "text": [
      "{'e': 0, 'P': 1, 'j': 2, 'm': 3, 'p': 4, 'R': 5, 'A': 6, 'V': 7, '$': 8, 'h': 9, 'w': 10, 'X': 11, 'W': 12, ',': 13, 'v': 14, '?': 15, 'c': 16, 'B': 17, 'Q': 18, 'F': 19, 'M': 20, ':': 21, 'O': 22, '&': 23, 'Z': 24, 'd': 25, 'S': 26, 'f': 27, 'L': 28, 'g': 29, 'k': 30, 'U': 31, ';': 32, 'K': 33, '-': 34, 't': 35, 'C': 36, '\\n': 37, 'T': 38, 'b': 39, 'D': 40, '.': 41, 'Y': 42, 'G': 43, 'l': 44, 'I': 45, 'H': 46, 'u': 47, '3': 48, 'a': 49, \"'\": 50, 'n': 51, 'E': 52, 'z': 53, 'r': 54, 'N': 55, '!': 56, 'i': 57, 's': 58, 'o': 59, 'y': 60, ' ': 61, 'q': 62, 'x': 63, 'J': 64}\n",
      "{0: 'e', 1: 'P', 2: 'j', 3: 'm', 4: 'p', 5: 'R', 6: 'A', 7: 'V', 8: '$', 9: 'h', 10: 'w', 11: 'X', 12: 'W', 13: ',', 14: 'v', 15: '?', 16: 'c', 17: 'B', 18: 'Q', 19: 'F', 20: 'M', 21: ':', 22: 'O', 23: '&', 24: 'Z', 25: 'd', 26: 'S', 27: 'f', 28: 'L', 29: 'g', 30: 'k', 31: 'U', 32: ';', 33: 'K', 34: '-', 35: 't', 36: 'C', 37: '\\n', 38: 'T', 39: 'b', 40: 'D', 41: '.', 42: 'Y', 43: 'G', 44: 'l', 45: 'I', 46: 'H', 47: 'u', 48: '3', 49: 'a', 50: \"'\", 51: 'n', 52: 'E', 53: 'z', 54: 'r', 55: 'N', 56: '!', 57: 'i', 58: 's', 59: 'o', 60: 'y', 61: ' ', 62: 'q', 63: 'x', 64: 'J'}\n",
      "[46, 0, 44, 44, 59, 61, 12, 59, 54, 44, 25]\n"
     ]
    }
   ],
   "source": [
    "print(stoi)\n",
    "print(itos)\n",
    "print(encode(\"Hello World\"))"
   ]
  },
  {
   "cell_type": "code",
   "execution_count": 7,
   "id": "47709bac",
   "metadata": {},
   "outputs": [
    {
     "name": "stdout",
     "output_type": "stream",
     "text": [
      "ySii?Um?piN\n"
     ]
    }
   ],
   "source": [
    "print(decode([60, 26, 57, 57, 15, 31, 3, 15, 4, 57, 55]))"
   ]
  },
  {
   "cell_type": "code",
   "execution_count": 8,
   "id": "770b52b0",
   "metadata": {},
   "outputs": [
    {
     "name": "stdout",
     "output_type": "stream",
     "text": [
      "torch.Size([1115394]) torch.int64\n",
      "tensor([19, 57, 54, 58, 35, 61, 36, 57, 35, 57, 53,  0, 51, 21, 37, 17,  0, 27,\n",
      "        59, 54,  0, 61, 10,  0, 61,  4, 54, 59, 16,  0,  0, 25, 61, 49, 51, 60,\n",
      "        61, 27, 47, 54, 35,  9,  0, 54, 13, 61,  9,  0, 49, 54, 61,  3,  0, 61,\n",
      "        58,  4,  0, 49, 30, 41, 37, 37,  6, 44, 44, 21, 37, 26,  4,  0, 49, 30,\n",
      "        13, 61, 58,  4,  0, 49, 30, 41, 37, 37, 19, 57, 54, 58, 35, 61, 36, 57,\n",
      "        35, 57, 53,  0, 51, 21, 37, 42, 59])\n"
     ]
    }
   ],
   "source": [
    "import torch\n",
    "\n",
    "data = torch.tensor(encode(text), dtype= torch.long)\n",
    "print(data.shape, data.dtype)\n",
    "print(data[:99])"
   ]
  },
  {
   "cell_type": "code",
   "execution_count": 10,
   "id": "f3c26df1",
   "metadata": {},
   "outputs": [],
   "source": [
    "n = int(0.9 * len(data))\n",
    "train_data = data[:n]\n",
    "val_data = data[n:]"
   ]
  },
  {
   "cell_type": "code",
   "execution_count": 11,
   "id": "6ad48287",
   "metadata": {},
   "outputs": [],
   "source": [
    "block_size = 8"
   ]
  },
  {
   "cell_type": "code",
   "execution_count": null,
   "id": "1fc34201",
   "metadata": {},
   "outputs": [
    {
     "name": "stdout",
     "output_type": "stream",
     "text": [
      "tensor([19, 57, 54, 58, 35, 61, 36, 57]) tensor([57, 54, 58, 35, 61, 36, 57, 35])\n",
      "when input is tensor([19]) the target is 57\n",
      "when input is tensor([19, 57]) the target is 54\n",
      "when input is tensor([19, 57, 54]) the target is 58\n",
      "when input is tensor([19, 57, 54, 58]) the target is 35\n",
      "when input is tensor([19, 57, 54, 58, 35]) the target is 61\n",
      "when input is tensor([19, 57, 54, 58, 35, 61]) the target is 36\n",
      "when input is tensor([19, 57, 54, 58, 35, 61, 36]) the target is 57\n",
      "when input is tensor([19, 57, 54, 58, 35, 61, 36, 57]) the target is 35\n"
     ]
    }
   ],
   "source": [
    "x = train_data[:block_size]\n",
    "y = train_data[1:block_size+1]\n",
    "print(x,y)\n",
    "for t in range(block_size):\n",
    "    context = x[:t+1]\n",
    "    target = y[t]\n",
    "    print(f\"when input is {context} the target is {target}\")\n"
   ]
  },
  {
   "cell_type": "code",
   "execution_count": null,
   "id": "420e25dc",
   "metadata": {},
   "outputs": [],
   "source": [
    "torch.manual_seed(1337)\n",
    "batch_size = 4\n",
    "block_size = 8\n",
    "\n",
    "def get_batch(split):\n",
    "    data = train_data if split == 'train' else val_data\n",
    "    ix = torch.randint(len(data) - block_size, (batch_size,))\n",
    "    x = torch.stack([data[i:i+block_size] for i in ix])\n",
    "    y = torch.stack([data[i+1:i+block_size+1] for i in ix])\n",
    "    return x,y"
   ]
  }
 ],
 "metadata": {
  "kernelspec": {
   "display_name": "Python 3",
   "language": "python",
   "name": "python3"
  },
  "language_info": {
   "codemirror_mode": {
    "name": "ipython",
    "version": 3
   },
   "file_extension": ".py",
   "mimetype": "text/x-python",
   "name": "python",
   "nbconvert_exporter": "python",
   "pygments_lexer": "ipython3",
   "version": "3.13.5"
  }
 },
 "nbformat": 4,
 "nbformat_minor": 5
}
